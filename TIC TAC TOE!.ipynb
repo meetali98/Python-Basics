{
 "cells": [
  {
   "cell_type": "code",
   "execution_count": 3,
   "metadata": {},
   "outputs": [],
   "source": [
    "from IPython.display import clear_output\n",
    "\n",
    "def display_board(board):\n",
    "    clear_output()\n",
    "    print('   ' + '|'+ '   ' + '|'+ '   ' )\n",
    "    print(' '+board[7]+' ' + '|' + ' '+board[8]+' '+ '|' +' '+board[9]+' ')\n",
    "    print('   ' + '|'+ '   ' + '|'+ '   ' )\n",
    "    print('-----------')\n",
    "    print('   ' + '|'+ '   ' + '|'+ '   ' )\n",
    "    print(' '+board[4]+' ' + '|' + ' '+board[5]+' '+ '|' +' '+board[6]+' ')\n",
    "    print('   ' + '|'+ '   ' + '|'+ '   ' )\n",
    "    print('-----------')\n",
    "    print('   ' + '|'+ '   ' + '|'+ '   ' )\n",
    "    print(' '+board[1]+' ' + '|' + ' '+board[2]+' '+ '|' +' '+board[3]+' ')\n",
    "    print('   ' + '|'+ '   ' + '|'+ '   ' )\n",
    "   "
   ]
  },
  {
   "cell_type": "code",
   "execution_count": 4,
   "metadata": {},
   "outputs": [],
   "source": [
    "def player_input():\n",
    "    marker = ''\n",
    "    \n",
    "    while not (marker == 'X' or marker == 'O'):\n",
    "        \n",
    "        marker = input('Player1 : Choose your symbol (X,O)').upper()\n",
    "        \n",
    "\n",
    "    if marker == 'X':\n",
    "        return ('X','O')\n",
    "    else:\n",
    "        return ('O','X')"
   ]
  },
  {
   "cell_type": "code",
   "execution_count": 5,
   "metadata": {},
   "outputs": [],
   "source": [
    "def place_marker(board, marker, position):\n",
    "    print(marker)\n",
    "    board[position] = marker"
   ]
  },
  {
   "cell_type": "code",
   "execution_count": 6,
   "metadata": {},
   "outputs": [],
   "source": [
    "def win_check(board, mark):\n",
    "    return ((board[7] == mark and board[8] == mark and board[9] == mark)or\n",
    "    (board[1] == mark and board[2] == mark and board[3] == mark)or\n",
    "    (board[4] == mark and board[5] == mark and board[6] == mark)or\n",
    "    (board[1] == mark and board[4] == mark and board[7] == mark)or\n",
    "    (board[2] == mark and board[5] == mark and board[8] == mark)or\n",
    "    (board[3] == mark and board[6] == mark and board[9] == mark)or\n",
    "    (board[1] == mark and board[5] == mark and board[9] == mark)or\n",
    "    (board[3] == mark and board[5] == mark and board[7] == mark))"
   ]
  },
  {
   "cell_type": "code",
   "execution_count": 7,
   "metadata": {},
   "outputs": [],
   "source": [
    "import random\n",
    "\n",
    "def choose_first():\n",
    "\n",
    "    player = random.randint(1,2)\n",
    "    \n",
    "    if player == 1:\n",
    "        return 'Player1'\n",
    "    else:\n",
    "        return 'Player2'"
   ]
  },
  {
   "cell_type": "code",
   "execution_count": 8,
   "metadata": {},
   "outputs": [],
   "source": [
    "def space_check(board, position):\n",
    "    if board[position] == ' ':\n",
    "        return True\n",
    "    else:\n",
    "        return False"
   ]
  },
  {
   "cell_type": "code",
   "execution_count": 9,
   "metadata": {},
   "outputs": [],
   "source": [
    "def full_board_check(board):\n",
    "    \n",
    "    for count in range(1,10):\n",
    "        if space_check(board,count):\n",
    "            return False\n",
    "    return True"
   ]
  },
  {
   "cell_type": "code",
   "execution_count": 10,
   "metadata": {},
   "outputs": [],
   "source": [
    "def player_choice(board):\n",
    "    pos = 0\n",
    "    pos_list = [1,2,3,4,5,6,7,8,9]\n",
    "    \n",
    "    while pos not in pos_list and not space_check(board,pos):\n",
    "        \n",
    "        pos = int(input('Select a position to play your turn (1-9)'))\n",
    "       \n",
    "    return pos"
   ]
  },
  {
   "cell_type": "code",
   "execution_count": 11,
   "metadata": {},
   "outputs": [],
   "source": [
    "def replay():\n",
    "    play_again = ''\n",
    "    \n",
    "    while play_again != 'yes' and play_again != 'no':\n",
    "        \n",
    "        play_again = input('Do you want to play again? (yes/no)')\n",
    "    \n",
    "    if play_again == 'yes':\n",
    "        return True\n",
    "    else:\n",
    "        return False"
   ]
  },
  {
   "cell_type": "code",
   "execution_count": null,
   "metadata": {
    "scrolled": false
   },
   "outputs": [
    {
     "name": "stdout",
     "output_type": "stream",
     "text": [
      "   |   |   \n",
      " X | X | X \n",
      "   |   |   \n",
      "-----------\n",
      "   |   |   \n",
      " X | O | O \n",
      "   |   |   \n",
      "-----------\n",
      "   |   |   \n",
      " O |   | O \n",
      "   |   |   \n",
      "Congratulations! Player2 has won!\n"
     ]
    }
   ],
   "source": [
    "print('Welcome to Tic Tac Toe!')\n",
    "\n",
    "while True:\n",
    "    board = ['#',' ',' ',' ',' ',' ',' ',' ',' ',' ']\n",
    "    player1_sym,player2_sym = player_input()\n",
    "    print(\"Player1 : \",player1_sym)\n",
    "    print(\"Player2 : \",player2_sym)\n",
    "    \n",
    "    player_turn = choose_first()\n",
    "    print(player_turn + ' will go first!')\n",
    "    \n",
    "    decision = input('Do you want to start the game? y or n').lower()\n",
    "    \n",
    "    if decision == 'y':\n",
    "        game_on = True\n",
    "    else:\n",
    "        game_on = False\n",
    "    \n",
    "    while game_on:\n",
    "        #print(player_turn)\n",
    "        #Player 1 Turn\n",
    "        if player_turn == 'Player1':\n",
    "            \n",
    "            display_board(board)\n",
    "            position = player_choice(board)\n",
    "            #print(position)\n",
    "            place_marker(board,player1_sym,position)\n",
    "            \n",
    "            if win_check(board,player1_sym):\n",
    "                display_board(board)\n",
    "                print('Congratulations! Player1 has won!')\n",
    "                game_on = False\n",
    "            else:\n",
    "                if full_board_check(board):\n",
    "                    display_board(board)\n",
    "                    print(\"Its a Tie!\")\n",
    "                    break\n",
    "                else:\n",
    "                    #print('here!')\n",
    "                    player_turn = 'Player2'\n",
    "                  \n",
    "        # Player2's turn.   \n",
    "        else:\n",
    "            #print(player_turn)   \n",
    "            display_board(board)\n",
    "            position = player_choice(board)\n",
    "            place_marker(board,player2_sym,position)\n",
    "            \n",
    "            if win_check(board,player2_sym):\n",
    "                display_board(board)\n",
    "                print('Congratulations! Player2 has won!')\n",
    "                game_on = False\n",
    "            else:\n",
    "                if full_board_check(board):\n",
    "                    display_board(board)\n",
    "                    print(\"Its a Tie!\")\n",
    "                    game_on = False\n",
    "                else:\n",
    "                    #print('and here!')\n",
    "                    player_turn = 'Player1'\n",
    "        \n",
    "    if not replay():\n",
    "        break"
   ]
  },
  {
   "cell_type": "code",
   "execution_count": null,
   "metadata": {},
   "outputs": [],
   "source": [
    "\n",
    "\n",
    "\n",
    "\n",
    "\n",
    "\n",
    "\n",
    "|"
   ]
  },
  {
   "cell_type": "code",
   "execution_count": null,
   "metadata": {},
   "outputs": [],
   "source": []
  },
  {
   "cell_type": "code",
   "execution_count": null,
   "metadata": {},
   "outputs": [],
   "source": []
  }
 ],
 "metadata": {
  "kernelspec": {
   "display_name": "Python 3",
   "language": "python",
   "name": "python3"
  },
  "language_info": {
   "codemirror_mode": {
    "name": "ipython",
    "version": 3
   },
   "file_extension": ".py",
   "mimetype": "text/x-python",
   "name": "python",
   "nbconvert_exporter": "python",
   "pygments_lexer": "ipython3",
   "version": "3.8.5"
  }
 },
 "nbformat": 4,
 "nbformat_minor": 4
}
