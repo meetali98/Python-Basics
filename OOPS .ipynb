{
 "cells": [
  {
   "cell_type": "markdown",
   "metadata": {},
   "source": [
    "# Class and objects"
   ]
  },
  {
   "cell_type": "markdown",
   "metadata": {},
   "source": [
    "class ---> blueprint defines nataure of that object ---> Example : Recipe for a cupcake, here Recipe is a class!\n",
    "\n",
    "\n",
    "from class we can create instances of the object \n",
    "\n",
    "\n",
    "instance ---> specific object created form a particular class ----> A cupcake created from a recipe, here cupcake is instance of the object!"
   ]
  },
  {
   "cell_type": "code",
   "execution_count": 4,
   "metadata": {},
   "outputs": [],
   "source": [
    "class Dog(): #class uses camel casing\n",
    "    def __init__(self,breed,age): #self --> represent instance of the obj you created, here self is representing 'mydog'!\n",
    "        \n",
    "        self.dog_breed = breed # assigning attribute(dog_breed) to parameter(breed)\n",
    "        self.age = age #for convention we name attribute and parameter same."
   ]
  },
  {
   "cell_type": "code",
   "execution_count": 5,
   "metadata": {},
   "outputs": [],
   "source": [
    "mydog = Dog('Husky',3) #Here mysample is 'Instance' of 'SampleWord' class also know as reference variable1"
   ]
  },
  {
   "cell_type": "code",
   "execution_count": 6,
   "metadata": {},
   "outputs": [
    {
     "data": {
      "text/plain": [
       "'Husky'"
      ]
     },
     "execution_count": 6,
     "metadata": {},
     "output_type": "execute_result"
    }
   ],
   "source": [
    "mydog.dog_breed"
   ]
  },
  {
   "cell_type": "code",
   "execution_count": 7,
   "metadata": {},
   "outputs": [
    {
     "data": {
      "text/plain": [
       "3"
      ]
     },
     "execution_count": 7,
     "metadata": {},
     "output_type": "execute_result"
    }
   ],
   "source": [
    "mydog.age"
   ]
  },
  {
   "cell_type": "code",
   "execution_count": 28,
   "metadata": {},
   "outputs": [
    {
     "name": "stdout",
     "output_type": "stream",
     "text": [
      "75\n",
      "150\n"
     ]
    }
   ],
   "source": [
    "class Vehicle():\n",
    "    def __init__(self):\n",
    "        self.mileage = None #attributes\n",
    "        self.fuel_left = None\n",
    "    def identify_distance_that_can_be_travelled(self):\n",
    "        reserve_fuel = 5\n",
    "        if self.fuel_left <= reserve_fuel:\n",
    "            return 0\n",
    "        else:\n",
    "            fuel = self.fuel_left - reserve_fuel\n",
    "            return self.mileage*fuel\n",
    "    \n",
    "    def identify_distance_travelled(self,initial_fuel):\n",
    "        fuel = initial_fuel - self.fuel_left\n",
    "        return self.mileage * fuel\n",
    "    \n",
    "mycar = Vehicle()\n",
    "mycar.mileage = 5 \n",
    "mycar.fuel_left = 20\n",
    "print(mycar.identify_distance_that_can_be_travelled())\n",
    "print(mycar.identify_distance_travelled(50))\n"
   ]
  },
  {
   "cell_type": "markdown",
   "metadata": {},
   "source": [
    "# Class object attributes and methods"
   ]
  },
  {
   "cell_type": "code",
   "execution_count": 1,
   "metadata": {},
   "outputs": [],
   "source": [
    "class Dog:\n",
    "    \n",
    "    #Class Object Attribute --> Static variable\n",
    "    #will be same for any instance of a class\n",
    "    species = 'Mammal'\n",
    "    \n",
    "    def __init__(self,breed,age): #Constructor ---> will get executed every time we create a object\n",
    "        self.breed = breed\n",
    "        self.age = age\n",
    "        \n",
    "    #operations/actions ---> Methods\n",
    "    def bark(self,name):\n",
    "        print(f'woof woof! I am a {self.breed} named {name}. I am a {Dog.species}') #Acessing the class object atrribute\n",
    "    \n",
    "    # will be called when we print the obj---> used for debugging\n",
    "    def __str__(self):\n",
    "        return 'Hello! I am a object of Dog Class'"
   ]
  },
  {
   "cell_type": "code",
   "execution_count": 2,
   "metadata": {},
   "outputs": [],
   "source": [
    "mydog = Dog('Lab',3)"
   ]
  },
  {
   "cell_type": "code",
   "execution_count": 3,
   "metadata": {},
   "outputs": [
    {
     "data": {
      "text/plain": [
       "'Mammal'"
      ]
     },
     "execution_count": 3,
     "metadata": {},
     "output_type": "execute_result"
    }
   ],
   "source": [
    "mydog.species"
   ]
  },
  {
   "cell_type": "code",
   "execution_count": 4,
   "metadata": {},
   "outputs": [
    {
     "name": "stdout",
     "output_type": "stream",
     "text": [
      "woof woof! I am a Lab name Bunty. I am a Mammal\n"
     ]
    }
   ],
   "source": [
    "mydog.bark('Bunty')"
   ]
  },
  {
   "cell_type": "code",
   "execution_count": 5,
   "metadata": {},
   "outputs": [
    {
     "name": "stdout",
     "output_type": "stream",
     "text": [
      "Hello! I am a object of Dog Class\n"
     ]
    }
   ],
   "source": [
    "print(mydog) # __str__() was called"
   ]
  },
  {
   "cell_type": "markdown",
   "metadata": {},
   "source": [
    "We can make our static variable as a private variable by adding a double underscore in front of it. We can also create getter and setter methods to access or modify it"
   ]
  },
  {
   "cell_type": "code",
   "execution_count": 9,
   "metadata": {},
   "outputs": [],
   "source": [
    "class Dog:\n",
    "    __sensitive = True\n",
    "    \n",
    "    def get_sensitive(self):\n",
    "        return Dog.__sensitive\n",
    "    \n",
    "    def set_sensitive(self,arg):\n",
    "        Dog.__sensitive = arg"
   ]
  },
  {
   "cell_type": "code",
   "execution_count": 10,
   "metadata": {},
   "outputs": [
    {
     "name": "stdout",
     "output_type": "stream",
     "text": [
      "True\n",
      "False\n"
     ]
    }
   ],
   "source": [
    "d1 = Dog()\n",
    "print(d1.get_sensitive())\n",
    "d1.set_sensitive(False)\n",
    "print(d1.get_sensitive())"
   ]
  },
  {
   "cell_type": "markdown",
   "metadata": {},
   "source": [
    "Note: In the above code we are invoking the getter method using a reference variable. But the self is not used inside the method at all."
   ]
  },
  {
   "cell_type": "markdown",
   "metadata": {},
   "source": [
    "# Static Methods"
   ]
  },
  {
   "cell_type": "markdown",
   "metadata": {},
   "source": [
    "Since static variable is object independent, we need a way to access the getter setter methods without an object. This is possible by creating static methods. Static methods are those methods which can be accessed without an object. They are accessed using the class name.\n",
    "\n",
    "There are two rules in creating such static methods:\n",
    "\n",
    "The methods should not have self\n",
    "@staticmethod must be written on top of it\n",
    "@staticmethod"
   ]
  },
  {
   "cell_type": "code",
   "execution_count": 12,
   "metadata": {},
   "outputs": [],
   "source": [
    "class Dog:\n",
    "    __sensitive = True\n",
    "    \n",
    "    @staticmethod\n",
    "    def get_sensitive():\n",
    "        return Dog.__sensitive\n",
    "    \n",
    "    @staticmethod\n",
    "    def set_sensitive(arg):\n",
    "        Dog.__sensitive = arg"
   ]
  },
  {
   "cell_type": "markdown",
   "metadata": {},
   "source": [
    "We can access static methods directly using the class name, even without creating objects"
   ]
  },
  {
   "cell_type": "code",
   "execution_count": 13,
   "metadata": {},
   "outputs": [
    {
     "data": {
      "text/plain": [
       "True"
      ]
     },
     "execution_count": 13,
     "metadata": {},
     "output_type": "execute_result"
    }
   ],
   "source": [
    "Dog.get_sensitive()"
   ]
  },
  {
   "cell_type": "markdown",
   "metadata": {},
   "source": [
    "# Collection of Objects"
   ]
  },
  {
   "cell_type": "markdown",
   "metadata": {},
   "source": [
    "We can store number of objects in a list or dictionary!"
   ]
  },
  {
   "cell_type": "code",
   "execution_count": 2,
   "metadata": {},
   "outputs": [
    {
     "name": "stdout",
     "output_type": "stream",
     "text": [
      "Lab-->2\n",
      "Golden Retriever-->1\n",
      "Husky-->3\n"
     ]
    }
   ],
   "source": [
    "#LIST EXAMPLE\n",
    "class Dog():\n",
    "    def __init__(self,breed,age):\n",
    "        self.breed = breed\n",
    "        self.age = age\n",
    "\n",
    "d1 = Dog('Lab',2)\n",
    "d2 = Dog('Golden Retriever',1)\n",
    "d3 = Dog('Husky',3)\n",
    "\n",
    "list_of_dogs = [d1,d2,d3]\n",
    "\n",
    "for i in list_of_dogs:\n",
    "    print(i.breed + \"-->\" + str(i.age))"
   ]
  },
  {
   "cell_type": "code",
   "execution_count": 3,
   "metadata": {},
   "outputs": [
    {
     "name": "stdout",
     "output_type": "stream",
     "text": [
      "Customer name in India is Kumar\n",
      "Location: US, Name: Mark, Id: 101\n",
      "Location: Japan, Name: Jane, Id: 102\n",
      "Location: India, Name: Kumar, Id: 103\n"
     ]
    }
   ],
   "source": [
    "#DICTIONARY EXAMPLE\n",
    "class Customer:\n",
    "    def __init__(self, cust_id, cust_name, location):\n",
    "        self.cust_id = cust_id\n",
    "        self.cust_name = cust_name\n",
    "        self.location = location\n",
    "\n",
    "list_of_customers = [Customer(101, 'Mark', 'US'),\n",
    "                     Customer(102, 'Jane', 'Japan'),\n",
    "                     Customer(103, 'Kumar', 'India')]\n",
    "\n",
    "dict_of_customer = {}\n",
    "for customer in list_of_customers:\n",
    "    dict_of_customer[customer.location] = customer\n",
    "\n",
    "print (\"Customer name in India is \"+dict_of_customer[\"India\"].cust_name)\n",
    "\n",
    "for key,value in dict_of_customer.items():\n",
    "    print (\"Location: \"+key+\", Name: \"+value.cust_name+\", Id: \"+(str(value.cust_id)))"
   ]
  },
  {
   "cell_type": "markdown",
   "metadata": {},
   "source": [
    "# Interitance and Polymorphism \n"
   ]
  },
  {
   "cell_type": "markdown",
   "metadata": {},
   "source": [
    "Interitance --> way to form new classes using classes that are already been defined.\n",
    "Benefit --> Resue code and minimize complexity"
   ]
  },
  {
   "cell_type": "code",
   "execution_count": 26,
   "metadata": {},
   "outputs": [],
   "source": [
    "class Manager(): #BASE CLASS\n",
    "    def __init__(self):\n",
    "        print(\"Manager created\")\n",
    "        \n",
    "    def my_benefits(self):\n",
    "        print(\"I get benefits provided by the company\")\n",
    "        \n",
    "    def salary(self):\n",
    "        print(\"My salary is 10,00,000 INR\")\n",
    "        \n",
    "        "
   ]
  },
  {
   "cell_type": "code",
   "execution_count": 35,
   "metadata": {},
   "outputs": [],
   "source": [
    "class BusinessAnalyst(Manager): #DERIVED CLASS\n",
    "    def __init__(self):\n",
    "        Manager.__init__(self)\n",
    "        print(\"BA Created\")\n",
    "        \n",
    "    def salary(self): # you can override methods from the base/parent class\n",
    "        print(\"My salary is 4,00,000 INR\")\n",
    "    \n",
    "    def nightshift(self): # you can also add new methods in the child/derived class\n",
    "        print(\" I get NSA allowance!\")"
   ]
  },
  {
   "cell_type": "code",
   "execution_count": 36,
   "metadata": {},
   "outputs": [
    {
     "name": "stdout",
     "output_type": "stream",
     "text": [
      "Manager created\n"
     ]
    }
   ],
   "source": [
    "savio = Manager()"
   ]
  },
  {
   "cell_type": "code",
   "execution_count": 37,
   "metadata": {},
   "outputs": [
    {
     "name": "stdout",
     "output_type": "stream",
     "text": [
      "I get benefits provided by the company\n"
     ]
    }
   ],
   "source": [
    "savio.my_benefits()"
   ]
  },
  {
   "cell_type": "code",
   "execution_count": 38,
   "metadata": {},
   "outputs": [
    {
     "name": "stdout",
     "output_type": "stream",
     "text": [
      "Manager created\n",
      "BA Created\n"
     ]
    }
   ],
   "source": [
    "meetali = BusinessAnalyst()"
   ]
  },
  {
   "cell_type": "code",
   "execution_count": 39,
   "metadata": {},
   "outputs": [
    {
     "name": "stdout",
     "output_type": "stream",
     "text": [
      "I get benefits provided by the company\n"
     ]
    }
   ],
   "source": [
    "meetali.my_benefits()"
   ]
  },
  {
   "cell_type": "code",
   "execution_count": 40,
   "metadata": {},
   "outputs": [
    {
     "name": "stdout",
     "output_type": "stream",
     "text": [
      "My salary is 4,00,000 INR\n"
     ]
    }
   ],
   "source": [
    "meetali.salary()"
   ]
  },
  {
   "cell_type": "code",
   "execution_count": 41,
   "metadata": {},
   "outputs": [
    {
     "name": "stdout",
     "output_type": "stream",
     "text": [
      " I get NSA allowance!\n"
     ]
    }
   ],
   "source": [
    "meetali.nightshift()"
   ]
  },
  {
   "cell_type": "markdown",
   "metadata": {},
   "source": [
    "Polymorphism --> means same function anme but being used for different types"
   ]
  },
  {
   "cell_type": "code",
   "execution_count": 42,
   "metadata": {},
   "outputs": [],
   "source": [
    "class Dog():\n",
    "    def __init__(self,name):\n",
    "        self.name = name\n",
    "    \n",
    "    def speak(self):\n",
    "        return self.name + \" says Bhow!\""
   ]
  },
  {
   "cell_type": "code",
   "execution_count": 43,
   "metadata": {},
   "outputs": [],
   "source": [
    "class Cat():\n",
    "    def __init__(self,name):\n",
    "        self.name = name\n",
    "    \n",
    "    def speak(self):\n",
    "        return self.name + \" says Meow!\""
   ]
  },
  {
   "cell_type": "code",
   "execution_count": 44,
   "metadata": {},
   "outputs": [],
   "source": [
    "buddy = Dog(\"Buddy\")"
   ]
  },
  {
   "cell_type": "code",
   "execution_count": 45,
   "metadata": {},
   "outputs": [],
   "source": [
    "tom = Cat(\"Tom\")"
   ]
  },
  {
   "cell_type": "code",
   "execution_count": 46,
   "metadata": {},
   "outputs": [
    {
     "data": {
      "text/plain": [
       "'Buddy says Bhow!'"
      ]
     },
     "execution_count": 46,
     "metadata": {},
     "output_type": "execute_result"
    }
   ],
   "source": [
    "buddy.speak()"
   ]
  },
  {
   "cell_type": "code",
   "execution_count": 47,
   "metadata": {},
   "outputs": [
    {
     "data": {
      "text/plain": [
       "'Tom says Meow!'"
      ]
     },
     "execution_count": 47,
     "metadata": {},
     "output_type": "execute_result"
    }
   ],
   "source": [
    "tom.speak()"
   ]
  },
  {
   "cell_type": "code",
   "execution_count": 48,
   "metadata": {},
   "outputs": [],
   "source": [
    "def pet_speak(pet):\n",
    "    return pet.speak()"
   ]
  },
  {
   "cell_type": "code",
   "execution_count": 49,
   "metadata": {},
   "outputs": [
    {
     "data": {
      "text/plain": [
       "'Buddy says Bhow!'"
      ]
     },
     "execution_count": 49,
     "metadata": {},
     "output_type": "execute_result"
    }
   ],
   "source": [
    "pet_speak(buddy)"
   ]
  },
  {
   "cell_type": "code",
   "execution_count": 50,
   "metadata": {},
   "outputs": [
    {
     "data": {
      "text/plain": [
       "'Tom says Meow!'"
      ]
     },
     "execution_count": 50,
     "metadata": {},
     "output_type": "execute_result"
    }
   ],
   "source": [
    "pet_speak(tom)"
   ]
  },
  {
   "cell_type": "markdown",
   "metadata": {},
   "source": [
    "# Special (Magic/Dunder) Methods"
   ]
  },
  {
   "cell_type": "markdown",
   "metadata": {},
   "source": [
    "__str__ ---> If there is ever a function that asks for string representation of your class then it will return whatever this method returns"
   ]
  },
  {
   "cell_type": "code",
   "execution_count": 76,
   "metadata": {},
   "outputs": [],
   "source": [
    "class Book():\n",
    "    \n",
    "    def __init__(self,title,author,pages):\n",
    "        self.title = title\n",
    "        self.author = author\n",
    "        self.pages = pages\n",
    "        \n",
    "    def __str__(self): # returns string epresentation of that object\n",
    "        return f\"{self.title} by {self.author}\"\n",
    "    \n",
    "    def __len__(self): #to be returned when asked length of the book\n",
    "        return self.pages\n",
    "    \n",
    "    def __del__(self): #to define extra things when called del \n",
    "        print(\"A book object has been deleted\")\n",
    "        "
   ]
  },
  {
   "cell_type": "code",
   "execution_count": 77,
   "metadata": {},
   "outputs": [],
   "source": [
    "mybook = Book(\"Yugandhara\",\"Meetali\",100)"
   ]
  },
  {
   "cell_type": "code",
   "execution_count": 78,
   "metadata": {},
   "outputs": [
    {
     "name": "stdout",
     "output_type": "stream",
     "text": [
      "Yugandhara by Meetali\n"
     ]
    }
   ],
   "source": [
    "print(mybook)"
   ]
  },
  {
   "cell_type": "code",
   "execution_count": 79,
   "metadata": {},
   "outputs": [
    {
     "data": {
      "text/plain": [
       "100"
      ]
     },
     "execution_count": 79,
     "metadata": {},
     "output_type": "execute_result"
    }
   ],
   "source": [
    "len(mybook)"
   ]
  },
  {
   "cell_type": "code",
   "execution_count": 80,
   "metadata": {},
   "outputs": [
    {
     "name": "stdout",
     "output_type": "stream",
     "text": [
      "A book object has been deleted\n"
     ]
    }
   ],
   "source": [
    "del mybook # deletes the memory of mybook from the computer"
   ]
  },
  {
   "cell_type": "code",
   "execution_count": 75,
   "metadata": {},
   "outputs": [
    {
     "ename": "NameError",
     "evalue": "name 'mybook' is not defined",
     "output_type": "error",
     "traceback": [
      "\u001b[1;31m---------------------------------------------------------------------------\u001b[0m",
      "\u001b[1;31mNameError\u001b[0m                                 Traceback (most recent call last)",
      "\u001b[1;32m<ipython-input-75-2909dc260504>\u001b[0m in \u001b[0;36m<module>\u001b[1;34m\u001b[0m\n\u001b[1;32m----> 1\u001b[1;33m \u001b[0mmybook\u001b[0m\u001b[1;33m\u001b[0m\u001b[1;33m\u001b[0m\u001b[0m\n\u001b[0m",
      "\u001b[1;31mNameError\u001b[0m: name 'mybook' is not defined"
     ]
    }
   ],
   "source": [
    "mybook"
   ]
  },
  {
   "cell_type": "code",
   "execution_count": null,
   "metadata": {},
   "outputs": [],
   "source": []
  }
 ],
 "metadata": {
  "kernelspec": {
   "display_name": "Python 3",
   "language": "python",
   "name": "python3"
  },
  "language_info": {
   "codemirror_mode": {
    "name": "ipython",
    "version": 3
   },
   "file_extension": ".py",
   "mimetype": "text/x-python",
   "name": "python",
   "nbconvert_exporter": "python",
   "pygments_lexer": "ipython3",
   "version": "3.8.5"
  }
 },
 "nbformat": 4,
 "nbformat_minor": 4
}
